{
 "cells": [
  {
   "cell_type": "markdown",
   "metadata": {},
   "source": [
    "# Q1. What is Python? What are the ways to install python in PC?"
   ]
  },
  {
   "cell_type": "code",
   "execution_count": null,
   "metadata": {},
   "outputs": [],
   "source": [
    "Answer:\n",
    "Python is an object-oriented, high-level programming language easy to read and simple to implement .\n",
    "It is open source, which means it is free to use .\n",
    "Python has many libraries .\n",
    "\n",
    "Ways to Install Python:\n",
    "1. Anaconda (anaconda.com) . Free open source contain many libraries\n",
    "2. Python (python.com) , Here Libraries are not provided and have to download separately .\n"
   ]
  },
  {
   "cell_type": "markdown",
   "metadata": {},
   "source": [
    "# Q2. What are Code Environments? Types?"
   ]
  },
  {
   "cell_type": "code",
   "execution_count": null,
   "metadata": {},
   "outputs": [],
   "source": [
    "Answer:\n",
    "\n",
    "A Code Environment is a place where we can write , Compile, Run & Execute the code and also see the performance of the Code.\n",
    "\n",
    "There are three types of code environments. They are:\n",
    "1- Text Editors.\n",
    "2- Full IDE's.\n",
    "3- Notebook Environments."
   ]
  }
 ],
 "metadata": {
  "kernelspec": {
   "display_name": "Python 3",
   "language": "python",
   "name": "python3"
  },
  "language_info": {
   "codemirror_mode": {
    "name": "ipython",
    "version": 3
   },
   "file_extension": ".py",
   "mimetype": "text/x-python",
   "name": "python",
   "nbconvert_exporter": "python",
   "pygments_lexer": "ipython3",
   "version": "3.7.4"
  }
 },
 "nbformat": 4,
 "nbformat_minor": 2
}
