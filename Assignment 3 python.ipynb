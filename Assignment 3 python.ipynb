{
 "cells": [
  {
   "cell_type": "code",
   "execution_count": 1,
   "metadata": {},
   "outputs": [
    {
     "name": "stdout",
     "output_type": "stream",
     "text": [
      "Enter the value1\n",
      "1\n",
      "Enter the value2\n",
      "3\n",
      "Enter the value3\n",
      "6\n",
      "Enter the value4\n",
      "10\n",
      "Enter the value5\n",
      "15\n",
      "Enter the value6\n",
      "21\n",
      "Enter the value7\n",
      "28\n",
      "Enter the value8\n",
      "36\n",
      "Enter the value9\n",
      "45\n",
      "Enter the value10\n",
      "55\n",
      "Enter the value0\n",
      "55\n",
      "Sum of number is 55\n"
     ]
    }
   ],
   "source": [
    "sum1=0\n",
    "while True:\n",
    "    num1=int(input(\"Enter the value\"))\n",
    "    sum1=sum1+num1\n",
    "    print(sum1)\n",
    "    if num1==0:\n",
    "        break\n",
    "print(\"Sum of number is\",sum1)"
   ]
  },
  {
   "cell_type": "code",
   "execution_count": 1,
   "metadata": {},
   "outputs": [
    {
     "name": "stdout",
     "output_type": "stream",
     "text": [
      "Enter a number:22\n",
      "This is not Prime No.\n"
     ]
    }
   ],
   "source": [
    "numb1=int(input(\"Enter a number:\"))\n",
    "for i in range(2,numb1):\n",
    "    if numb1%i==0:\n",
    "        print(\"This is not Prime No.\")\n",
    "        break\n",
    "else:\n",
    "    \n",
    "    print(\"This is Prime No.\")"
   ]
  },
  {
   "cell_type": "code",
   "execution_count": 2,
   "metadata": {},
   "outputs": [
    {
     "name": "stdout",
     "output_type": "stream",
     "text": [
      "Enter a number:7\n",
      "This is Prime No.\n"
     ]
    }
   ],
   "source": [
    "numb1=int(input(\"Enter a number:\"))\n",
    "for i in range(2,numb1):\n",
    "    if numb1%i==0:\n",
    "        print(\"This is not Prime No.\")\n",
    "        break\n",
    "else:\n",
    "    \n",
    "    print(\"This is Prime No.\")"
   ]
  },
  {
   "cell_type": "code",
   "execution_count": null,
   "metadata": {},
   "outputs": [],
   "source": []
  }
 ],
 "metadata": {
  "kernelspec": {
   "display_name": "Python 3",
   "language": "python",
   "name": "python3"
  },
  "language_info": {
   "codemirror_mode": {
    "name": "ipython",
    "version": 3
   },
   "file_extension": ".py",
   "mimetype": "text/x-python",
   "name": "python",
   "nbconvert_exporter": "python",
   "pygments_lexer": "ipython3",
   "version": "3.7.4"
  }
 },
 "nbformat": 4,
 "nbformat_minor": 2
}
